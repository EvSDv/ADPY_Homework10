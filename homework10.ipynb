{
 "cells": [
  {
   "cell_type": "code",
   "execution_count": 5,
   "metadata": {},
   "outputs": [],
   "source": [
    "import pandas as pd\n",
    "PATH = 'd:/names/'"
   ]
  },
  {
   "cell_type": "code",
   "execution_count": 6,
   "metadata": {},
   "outputs": [],
   "source": [
    "def count_top3(years):\n",
    "    df_list = []\n",
    "    for year in years:\n",
    "        df = pd.read_csv(f'{PATH}yob{year}.txt', names=['Name', 'Sex', 'Quantity'])\n",
    "        df_list.append(df)\n",
    "    result = pd.concat(df_list)\n",
    "    df_res = result.groupby(['Name']).sum().sort_values('Quantity', ascending=False).head(3)\n",
    "    result = [i for i in df_res.index]\n",
    "    return result"
   ]
  },
  {
   "cell_type": "code",
   "execution_count": 7,
   "metadata": {},
   "outputs": [
    {
     "data": {
      "text/plain": [
       "['John', 'William', 'Mary']"
      ]
     },
     "execution_count": 7,
     "metadata": {},
     "output_type": "execute_result"
    }
   ],
   "source": [
    "count_top3([1880])"
   ]
  },
  {
   "cell_type": "code",
   "execution_count": 8,
   "metadata": {},
   "outputs": [
    {
     "name": "stdout",
     "output_type": "stream",
     "text": [
      "['James', 'John', 'Robert']\n"
     ]
    }
   ],
   "source": [
    "print(count_top3([1900, 1950, 2000]))"
   ]
  },
  {
   "cell_type": "code",
   "execution_count": 9,
   "metadata": {},
   "outputs": [],
   "source": [
    "def count_dynamics(years):\n",
    "    result_list_f = []\n",
    "    result_list_m = []\n",
    "    result = {}\n",
    "    for year in years:\n",
    "        df = pd.read_csv(f'{PATH}yob{year}.txt', names=['Name', 'Sex', 'Quantity'])\n",
    "        df_f = df[df['Sex'] == 'F'].groupby(['Sex']).sum()\n",
    "        result_list_f.append(df_f['Quantity'][0])\n",
    "        df_m = df[df['Sex'] == 'M'].groupby(['Sex']).sum()\n",
    "        result_list_m.append(df_m['Quantity'][0])\n",
    "    result['F'] = result_list_f\n",
    "    result['M'] = result_list_m\n",
    "    return result"
   ]
  },
  {
   "cell_type": "code",
   "execution_count": 10,
   "metadata": {},
   "outputs": [
    {
     "name": "stdout",
     "output_type": "stream",
     "text": [
      "{'F': [299800, 1713151, 1815110], 'M': [150483, 1790549, 1962969]}\n"
     ]
    }
   ],
   "source": [
    "print(count_dynamics([1900, 1950, 2000]))"
   ]
  },
  {
   "cell_type": "code",
   "execution_count": null,
   "metadata": {},
   "outputs": [],
   "source": []
  }
 ],
 "metadata": {
  "kernelspec": {
   "display_name": "Python 3",
   "language": "python",
   "name": "python3"
  },
  "language_info": {
   "codemirror_mode": {
    "name": "ipython",
    "version": 3
   },
   "file_extension": ".py",
   "mimetype": "text/x-python",
   "name": "python",
   "nbconvert_exporter": "python",
   "pygments_lexer": "ipython3",
   "version": "3.7.1"
  }
 },
 "nbformat": 4,
 "nbformat_minor": 2
}
